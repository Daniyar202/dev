{
 "cells": [
  {
   "cell_type": "code",
   "execution_count": 3,
   "id": "dd2d366b",
   "metadata": {},
   "outputs": [],
   "source": [
    "df = pd.DataFrame({\n",
    "    'men': [80.2, 80.8, 57.5, 98, 50.5, 73.8, 77.4, 59.7, 77.9, 52.6],\n",
    "    'women': [57.9, 57.3, 72.8, 48.2, 59.5, 48.3, 61.2, 53.9, 53.9, 70.7]\n",
    "})"
   ]
  },
  {
   "cell_type": "code",
   "execution_count": null,
   "id": "55aa4503",
   "metadata": {},
   "outputs": [],
   "source": [
    "#Какие меры оценивают центральные (или типичные) наблюдения? Выберите все верные варианты.\n",
    "Среднее арифметическое\n",
    "Мода\n",
    "Медиана"
   ]
  },
  {
   "cell_type": "code",
   "execution_count": null,
   "id": "8af6b34a",
   "metadata": {},
   "outputs": [],
   "source": [
    "#Какая мера необходима для нахождения самого часто встречающегося значения?\n",
    "Мода\n"
   ]
  },
  {
   "cell_type": "code",
   "execution_count": null,
   "id": "61ef023c",
   "metadata": {},
   "outputs": [],
   "source": [
    "#Для каких из перечисленных случаев медиана подходит как мера центральной тенденции?\n",
    "Необходимо разделить числовой ряд пополам"
   ]
  },
  {
   "cell_type": "code",
   "execution_count": null,
   "id": "eb67c0b1",
   "metadata": {},
   "outputs": [],
   "source": [
    "#Задание 1.4.3\n",
    "Мода на 1 балл меньше  средней оценки.\n",
    "Этот набор данных является генеральной совокупностью\n",
    "\n"
   ]
  },
  {
   "cell_type": "code",
   "execution_count": null,
   "id": "f83d2f4e",
   "metadata": {},
   "outputs": [],
   "source": [
    "import pandas as pd\n",
    "\n",
    "df = pd.DataFrame({\n",
    "    'men': [80.2, 80.8, 57.5, 98, 50.5, 73.8, 77.4, 59.7, 77.9, 52.6],\n",
    "    'women': [57.9, 57.3, 72.8, 48.2, 59.5, 48.3, 61.2, 53.9, 53.9, 70.7]\n",
    "})"
   ]
  },
  {
   "cell_type": "code",
   "execution_count": 7,
   "id": "15709f46",
   "metadata": {},
   "outputs": [
    {
     "data": {
      "text/plain": [
       "70.84"
      ]
     },
     "execution_count": 7,
     "metadata": {},
     "output_type": "execute_result"
    }
   ],
   "source": [
    "df['men'].mean()\n"
   ]
  },
  {
   "cell_type": "code",
   "execution_count": 8,
   "id": "f6a370f8",
   "metadata": {},
   "outputs": [
    {
     "data": {
      "text/plain": [
       "men      70.84\n",
       "women    58.37\n",
       "dtype: float64"
      ]
     },
     "execution_count": 8,
     "metadata": {},
     "output_type": "execute_result"
    }
   ],
   "source": [
    "df.mean()\n"
   ]
  },
  {
   "cell_type": "code",
   "execution_count": null,
   "id": "f4072a15",
   "metadata": {},
   "outputs": [],
   "source": []
  }
 ],
 "metadata": {
  "kernelspec": {
   "display_name": "Python 3",
   "language": "python",
   "name": "python3"
  },
  "language_info": {
   "codemirror_mode": {
    "name": "ipython",
    "version": 3
   },
   "file_extension": ".py",
   "mimetype": "text/x-python",
   "name": "python",
   "nbconvert_exporter": "python",
   "pygments_lexer": "ipython3",
   "version": "3.8.8"
  }
 },
 "nbformat": 4,
 "nbformat_minor": 5
}
