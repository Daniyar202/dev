{
 "cells": [
  {
   "cell_type": "markdown",
   "id": "94415dd1",
   "metadata": {},
   "source": [
    "# Задание 2.1.1"
   ]
  },
  {
   "cell_type": "markdown",
   "id": "749737a3",
   "metadata": {},
   "source": [
    "\n",
    "Центрирование\n",
    " Обрезку\n",
    " Нормализацию\n",
    " Вращение "
   ]
  },
  {
   "cell_type": "markdown",
   "id": "10bc3338",
   "metadata": {},
   "source": [
    "# Задание 2.1.2:\n",
    "\n",
    "\n",
    "### Распределите этапы решения задач машинного обучения в правильном порядке: \n",
    "\"Определение требований;предобраобтка;моделирование;тестирование;внедрение\"\n"
   ]
  },
  {
   "cell_type": "markdown",
   "id": "071b365b",
   "metadata": {},
   "source": [
    "# Задание 2.2.1:\n",
    "\n",
    "### Какого типа признак «вес планшета»?\n",
    "\"Числовой верно\""
   ]
  },
  {
   "cell_type": "markdown",
   "id": "ce97016f",
   "metadata": {},
   "source": [
    "# Задание 2.2.2\n",
    "\n",
    "### Выберите все категориальные признаки:\n",
    "Марка машины\n",
    "Наличие тачпада у ноутбука"
   ]
  },
  {
   "cell_type": "markdown",
   "id": "f110656e",
   "metadata": {},
   "source": [
    "# Задание 2.2.3\n",
    "\n",
    "### К какому типу данных относится оцифрованный снимок с пленочной камеры?\n",
    "Графический (изображение) верно"
   ]
  },
  {
   "cell_type": "markdown",
   "id": "1078a942",
   "metadata": {},
   "source": [
    "# Задание 2.2.4\n",
    "\n",
    "### Выберите, какие задачи можно решать с типом алгоритмов «Тексты»:\n",
    "- [ ]  Искать ключевые слова\n",
    "- [ ]  Переводить на другой язык"
   ]
  },
  {
   "cell_type": "markdown",
   "id": "e326176f",
   "metadata": {},
   "source": [
    "# Задание 2.2.5\n",
    "\n",
    "### В неком чате Telegram есть масса сообщений. В результате задачи Х мы получили список наиболее интересных и важных тем из этих сообщений. Определите тип задачи Х, который применяется к тексту:\n",
    "Поиск фактов\n",
    "Суммаризация верно"
   ]
  },
  {
   "cell_type": "markdown",
   "id": "124bd99b",
   "metadata": {},
   "source": [
    "# Задание 2.2.6\n",
    "\n",
    "### К какому типу данных относится граф пользователей сети Facebook:\n",
    "Смешанный тип верно"
   ]
  },
  {
   "cell_type": "markdown",
   "id": "34075ce5",
   "metadata": {},
   "source": [
    "# Задание 2.2.7\n",
    "\n",
    "### Выберите примеры графического типа данных (изображений):\n",
    "Список позиций в чеке\n",
    "Скан мозга, сделанный с помощью МРТ"
   ]
  },
  {
   "cell_type": "markdown",
   "id": "f05580b3",
   "metadata": {},
   "source": [
    "# Задание 2.2.8\n",
    "\n",
    "### Выберите примеры текстовых данных:\n",
    "Письмо в почте\n",
    "Пост в Facebook (без вложений)\n",
    "\n"
   ]
  },
  {
   "cell_type": "markdown",
   "id": "87551877",
   "metadata": {},
   "source": [
    "# # **2.3. Практика**"
   ]
  },
  {
   "cell_type": "code",
   "execution_count": 3,
   "id": "87b2c2e1",
   "metadata": {},
   "outputs": [
    {
     "data": {
      "text/html": [
       "<div>\n",
       "<style scoped>\n",
       "    .dataframe tbody tr th:only-of-type {\n",
       "        vertical-align: middle;\n",
       "    }\n",
       "\n",
       "    .dataframe tbody tr th {\n",
       "        vertical-align: top;\n",
       "    }\n",
       "\n",
       "    .dataframe thead th {\n",
       "        text-align: right;\n",
       "    }\n",
       "</style>\n",
       "<table border=\"1\" class=\"dataframe\">\n",
       "  <thead>\n",
       "    <tr style=\"text-align: right;\">\n",
       "      <th></th>\n",
       "      <th>id</th>\n",
       "      <th>full_sq</th>\n",
       "      <th>life_sq</th>\n",
       "      <th>floor</th>\n",
       "      <th>sub_area</th>\n",
       "      <th>preschool_quota</th>\n",
       "      <th>preschool_education_centers_raion</th>\n",
       "      <th>school_quota</th>\n",
       "      <th>school_education_centers_raion</th>\n",
       "      <th>school_education_centers_top_20_raion</th>\n",
       "      <th>...</th>\n",
       "      <th>shopping_centers_km</th>\n",
       "      <th>office_km</th>\n",
       "      <th>additional_education_km</th>\n",
       "      <th>preschool_km</th>\n",
       "      <th>big_church_km</th>\n",
       "      <th>church_synagogue_km</th>\n",
       "      <th>theater_km</th>\n",
       "      <th>museum_km</th>\n",
       "      <th>ecology</th>\n",
       "      <th>price_doc</th>\n",
       "    </tr>\n",
       "  </thead>\n",
       "  <tbody>\n",
       "    <tr>\n",
       "      <th>0</th>\n",
       "      <td>1</td>\n",
       "      <td>43</td>\n",
       "      <td>27.0</td>\n",
       "      <td>4.0</td>\n",
       "      <td>Bibirevo</td>\n",
       "      <td>5001.0</td>\n",
       "      <td>5</td>\n",
       "      <td>11065.0</td>\n",
       "      <td>5</td>\n",
       "      <td>0</td>\n",
       "      <td>...</td>\n",
       "      <td>0.648488</td>\n",
       "      <td>0.637189</td>\n",
       "      <td>0.947962</td>\n",
       "      <td>0.177975</td>\n",
       "      <td>0.625783</td>\n",
       "      <td>0.628187</td>\n",
       "      <td>14.053047</td>\n",
       "      <td>7.389498</td>\n",
       "      <td>good</td>\n",
       "      <td>5850000</td>\n",
       "    </tr>\n",
       "    <tr>\n",
       "      <th>1</th>\n",
       "      <td>2</td>\n",
       "      <td>34</td>\n",
       "      <td>19.0</td>\n",
       "      <td>3.0</td>\n",
       "      <td>Nagatinskij Zaton</td>\n",
       "      <td>3119.0</td>\n",
       "      <td>5</td>\n",
       "      <td>6237.0</td>\n",
       "      <td>8</td>\n",
       "      <td>0</td>\n",
       "      <td>...</td>\n",
       "      <td>0.519311</td>\n",
       "      <td>0.688796</td>\n",
       "      <td>1.072315</td>\n",
       "      <td>0.273345</td>\n",
       "      <td>0.967821</td>\n",
       "      <td>0.471447</td>\n",
       "      <td>6.829889</td>\n",
       "      <td>0.709260</td>\n",
       "      <td>excellent</td>\n",
       "      <td>6000000</td>\n",
       "    </tr>\n",
       "    <tr>\n",
       "      <th>2</th>\n",
       "      <td>3</td>\n",
       "      <td>43</td>\n",
       "      <td>29.0</td>\n",
       "      <td>2.0</td>\n",
       "      <td>Tekstil'shhiki</td>\n",
       "      <td>1463.0</td>\n",
       "      <td>4</td>\n",
       "      <td>5580.0</td>\n",
       "      <td>7</td>\n",
       "      <td>0</td>\n",
       "      <td>...</td>\n",
       "      <td>1.486533</td>\n",
       "      <td>1.543049</td>\n",
       "      <td>0.391957</td>\n",
       "      <td>0.158072</td>\n",
       "      <td>3.178751</td>\n",
       "      <td>0.755946</td>\n",
       "      <td>4.273200</td>\n",
       "      <td>3.156423</td>\n",
       "      <td>poor</td>\n",
       "      <td>5700000</td>\n",
       "    </tr>\n",
       "    <tr>\n",
       "      <th>3</th>\n",
       "      <td>4</td>\n",
       "      <td>89</td>\n",
       "      <td>50.0</td>\n",
       "      <td>9.0</td>\n",
       "      <td>Mitino</td>\n",
       "      <td>6839.0</td>\n",
       "      <td>9</td>\n",
       "      <td>17063.0</td>\n",
       "      <td>10</td>\n",
       "      <td>0</td>\n",
       "      <td>...</td>\n",
       "      <td>0.599914</td>\n",
       "      <td>0.934273</td>\n",
       "      <td>0.892674</td>\n",
       "      <td>0.236455</td>\n",
       "      <td>1.031777</td>\n",
       "      <td>1.561505</td>\n",
       "      <td>16.990677</td>\n",
       "      <td>16.041521</td>\n",
       "      <td>good</td>\n",
       "      <td>13100000</td>\n",
       "    </tr>\n",
       "    <tr>\n",
       "      <th>4</th>\n",
       "      <td>5</td>\n",
       "      <td>77</td>\n",
       "      <td>77.0</td>\n",
       "      <td>4.0</td>\n",
       "      <td>Basmannoe</td>\n",
       "      <td>3240.0</td>\n",
       "      <td>7</td>\n",
       "      <td>7770.0</td>\n",
       "      <td>9</td>\n",
       "      <td>0</td>\n",
       "      <td>...</td>\n",
       "      <td>0.429052</td>\n",
       "      <td>0.077901</td>\n",
       "      <td>0.810801</td>\n",
       "      <td>0.376838</td>\n",
       "      <td>0.378756</td>\n",
       "      <td>0.121681</td>\n",
       "      <td>1.112486</td>\n",
       "      <td>1.800125</td>\n",
       "      <td>excellent</td>\n",
       "      <td>16331452</td>\n",
       "    </tr>\n",
       "  </tbody>\n",
       "</table>\n",
       "<p>5 rows × 56 columns</p>\n",
       "</div>"
      ],
      "text/plain": [
       "   id  full_sq  life_sq  floor           sub_area  preschool_quota  \\\n",
       "0   1       43     27.0    4.0           Bibirevo           5001.0   \n",
       "1   2       34     19.0    3.0  Nagatinskij Zaton           3119.0   \n",
       "2   3       43     29.0    2.0     Tekstil'shhiki           1463.0   \n",
       "3   4       89     50.0    9.0             Mitino           6839.0   \n",
       "4   5       77     77.0    4.0          Basmannoe           3240.0   \n",
       "\n",
       "   preschool_education_centers_raion  school_quota  \\\n",
       "0                                  5       11065.0   \n",
       "1                                  5        6237.0   \n",
       "2                                  4        5580.0   \n",
       "3                                  9       17063.0   \n",
       "4                                  7        7770.0   \n",
       "\n",
       "   school_education_centers_raion  school_education_centers_top_20_raion  ...  \\\n",
       "0                               5                                      0  ...   \n",
       "1                               8                                      0  ...   \n",
       "2                               7                                      0  ...   \n",
       "3                              10                                      0  ...   \n",
       "4                               9                                      0  ...   \n",
       "\n",
       "   shopping_centers_km  office_km  additional_education_km  preschool_km  \\\n",
       "0             0.648488   0.637189                 0.947962      0.177975   \n",
       "1             0.519311   0.688796                 1.072315      0.273345   \n",
       "2             1.486533   1.543049                 0.391957      0.158072   \n",
       "3             0.599914   0.934273                 0.892674      0.236455   \n",
       "4             0.429052   0.077901                 0.810801      0.376838   \n",
       "\n",
       "   big_church_km  church_synagogue_km  theater_km  museum_km    ecology  \\\n",
       "0       0.625783             0.628187   14.053047   7.389498       good   \n",
       "1       0.967821             0.471447    6.829889   0.709260  excellent   \n",
       "2       3.178751             0.755946    4.273200   3.156423       poor   \n",
       "3       1.031777             1.561505   16.990677  16.041521       good   \n",
       "4       0.378756             0.121681    1.112486   1.800125  excellent   \n",
       "\n",
       "   price_doc  \n",
       "0    5850000  \n",
       "1    6000000  \n",
       "2    5700000  \n",
       "3   13100000  \n",
       "4   16331452  \n",
       "\n",
       "[5 rows x 56 columns]"
      ]
     },
     "execution_count": 3,
     "metadata": {},
     "output_type": "execute_result"
    }
   ],
   "source": [
    "import pandas as pd\n",
    "data = pd.read_csv('data_flats.csv',sep=\";\")\n",
    "data.head()"
   ]
  },
  {
   "cell_type": "code",
   "execution_count": 5,
   "id": "5b69ca83",
   "metadata": {},
   "outputs": [
    {
     "name": "stdout",
     "output_type": "stream",
     "text": [
      "<class 'pandas.core.frame.DataFrame'>\n",
      "RangeIndex: 30469 entries, 0 to 30468\n",
      "Data columns (total 56 columns):\n",
      " #   Column                                 Non-Null Count  Dtype  \n",
      "---  ------                                 --------------  -----  \n",
      " 0   id                                     30469 non-null  int64  \n",
      " 1   full_sq                                30469 non-null  int64  \n",
      " 2   life_sq                                24086 non-null  float64\n",
      " 3   floor                                  30302 non-null  float64\n",
      " 4   sub_area                               30469 non-null  object \n",
      " 5   preschool_quota                        23781 non-null  float64\n",
      " 6   preschool_education_centers_raion      30469 non-null  int64  \n",
      " 7   school_quota                           23784 non-null  float64\n",
      " 8   school_education_centers_raion         30469 non-null  int64  \n",
      " 9   school_education_centers_top_20_raion  30469 non-null  int64  \n",
      " 10  hospital_beds_raion                    16029 non-null  float64\n",
      " 11  healthcare_centers_raion               30469 non-null  int64  \n",
      " 12  university_top_20_raion                30469 non-null  int64  \n",
      " 13  sport_objects_raion                    30469 non-null  int64  \n",
      " 14  additional_education_raion             30469 non-null  int64  \n",
      " 15  culture_objects_top_25_raion           30469 non-null  int64  \n",
      " 16  shopping_centers_raion                 30469 non-null  int64  \n",
      " 17  office_raion                           30469 non-null  int64  \n",
      " 18  metro_min_avto                         30469 non-null  float64\n",
      " 19  metro_km_avto                          30469 non-null  float64\n",
      " 20  metro_min_walk                         30444 non-null  float64\n",
      " 21  metro_km_walk                          30444 non-null  float64\n",
      " 22  kindergarten_km                        30469 non-null  float64\n",
      " 23  school_km                              30469 non-null  float64\n",
      " 24  park_km                                30469 non-null  float64\n",
      " 25  green_zone_km                          30469 non-null  float64\n",
      " 26  industrial_km                          30469 non-null  float64\n",
      " 27  railroad_station_walk_km               30444 non-null  float64\n",
      " 28  railroad_station_walk_min              30444 non-null  float64\n",
      " 29  public_transport_station_km            30469 non-null  float64\n",
      " 30  public_transport_station_min_walk      30469 non-null  float64\n",
      " 31  mkad_km                                30469 non-null  float64\n",
      " 32  ttk_km                                 30469 non-null  float64\n",
      " 33  sadovoe_km                             30469 non-null  float64\n",
      " 34  bulvar_ring_km                         30469 non-null  float64\n",
      " 35  kremlin_km                             30469 non-null  float64\n",
      " 36  big_market_km                          30469 non-null  float64\n",
      " 37  market_shop_km                         30469 non-null  float64\n",
      " 38  fitness_km                             30469 non-null  float64\n",
      " 39  swim_pool_km                           30469 non-null  float64\n",
      " 40  ice_rink_km                            30469 non-null  float64\n",
      " 41  stadium_km                             30469 non-null  float64\n",
      " 42  basketball_km                          30469 non-null  float64\n",
      " 43  hospice_morgue_km                      30469 non-null  float64\n",
      " 44  university_km                          30469 non-null  float64\n",
      " 45  workplaces_km                          30469 non-null  float64\n",
      " 46  shopping_centers_km                    30469 non-null  float64\n",
      " 47  office_km                              30469 non-null  float64\n",
      " 48  additional_education_km                30469 non-null  float64\n",
      " 49  preschool_km                           30469 non-null  float64\n",
      " 50  big_church_km                          30469 non-null  float64\n",
      " 51  church_synagogue_km                    30469 non-null  float64\n",
      " 52  theater_km                             30469 non-null  float64\n",
      " 53  museum_km                              30469 non-null  float64\n",
      " 54  ecology                                30469 non-null  object \n",
      " 55  price_doc                              30469 non-null  int64  \n",
      "dtypes: float64(41), int64(13), object(2)\n",
      "memory usage: 13.0+ MB\n"
     ]
    }
   ],
   "source": [
    "data.info()"
   ]
  },
  {
   "cell_type": "markdown",
   "id": "afdbe760",
   "metadata": {},
   "source": [
    "# Задание 2.4.1\n",
    "\n",
    "### Какие бывают проблемы с данными?\n",
    "Грязные данные\n",
    "Неполные данные\n",
    "Утечка данных"
   ]
  },
  {
   "cell_type": "markdown",
   "id": "3cf213b4",
   "metadata": {},
   "source": [
    "# Задание 2.4.2\n",
    "\n",
    "### Какие данные мы называем неполными?\n",
    "\n",
    "В данных есть пропуски; Нет данных за какой-то период; В данных смешиваются буквы из разных языков; Данные есть только для части задач"
   ]
  },
  {
   "cell_type": "markdown",
   "id": "b93c27fa",
   "metadata": {},
   "source": [
    "## Задание 2.4.3\n",
    "\n",
    "### Выберите примеры грязных данных:\n",
    "\n",
    "\n",
    "ans = В данных есть пропуски; Некоторые символы написаны не тем языком\n",
    "\n",
    "## Задание 2.4.4\n",
    "\n",
    "### Что такое утечка в данных?\n",
    "\n",
    "\n",
    "ans = В данных есть признаки, от которых явно зависит целевая переменная\n",
    "\n",
    "## Задание 2.4.5\n",
    "\n",
    "### Вам прислали текст на русском языке, где попадаются китайские иероглифы. Часть параметров задаётся в метрах и сантиметрах, а некоторые — в ли, уин и чи. К какому типу данных можно отнести полученную информацию?\n",
    "\n",
    "\n",
    "ans = Грязные данные\n",
    "\n",
    "\n",
    "## Задание 2.4.6\n",
    "\n",
    "## Что такое разметка данных?\n",
    "\n",
    "\n",
    "ans = Процесс снижения влияния человеческого фактора на данные\n",
    "\n",
    "## Задание 2.4.7\n",
    "\n",
    "### Что из этого не является примером плохой разметки?\n",
    "\n",
    "\n",
    "ans = Отсутствуют некоторые значения нецелевых переменных в данных\n",
    "\n"
   ]
  },
  {
   "cell_type": "markdown",
   "id": "d409811e",
   "metadata": {},
   "source": [
    "# 2.5. Работа с пропусками"
   ]
  },
  {
   "cell_type": "markdown",
   "id": "bab80faa",
   "metadata": {},
   "source": [
    "## Задание 2.5.1\n",
    "\n",
    "### Что такое данные с пропусками?\n",
    "\n",
    "\n",
    "ans - Данные, в которых пропущена часть значений для нецелевой переменной верно\n",
    "\n",
    "\n",
    "## Задание 2.5.2\n",
    "\n",
    "### Какие из следующих случаев являются пропусками?\n",
    "\n",
    "ans = Не все респонденты при опросе указали возраст; Часть значений указаны как nan; При передаче данных пришло 700 строк из 1000\n",
    "\n",
    "## Задание 2.5.3\n",
    "\n",
    "### Как можно обработать пропуски?\n",
    "\n",
    "ans = Вернуть данные с пропусками; Удалить данные с пропусками; Заменить пропущенные данные константой; Обучить алгоритм, заменяющий пропуски\n"
   ]
  },
  {
   "cell_type": "markdown",
   "id": "65df965b",
   "metadata": {},
   "source": [
    "# 2.6. Практика"
   ]
  },
  {
   "cell_type": "code",
   "execution_count": 19,
   "id": "15b0defb",
   "metadata": {},
   "outputs": [],
   "source": [
    "import pandas as pd\n",
    "import numpy as np\n",
    "test_data = pd.DataFrame([[1, 2, np.nan], [3, np.nan, 4],\n",
    "                          [0, 1, 2]], columns=['one', 'two', 'three'])"
   ]
  },
  {
   "cell_type": "code",
   "execution_count": 12,
   "id": "d62b1239",
   "metadata": {},
   "outputs": [
    {
     "data": {
      "text/html": [
       "<div>\n",
       "<style scoped>\n",
       "    .dataframe tbody tr th:only-of-type {\n",
       "        vertical-align: middle;\n",
       "    }\n",
       "\n",
       "    .dataframe tbody tr th {\n",
       "        vertical-align: top;\n",
       "    }\n",
       "\n",
       "    .dataframe thead th {\n",
       "        text-align: right;\n",
       "    }\n",
       "</style>\n",
       "<table border=\"1\" class=\"dataframe\">\n",
       "  <thead>\n",
       "    <tr style=\"text-align: right;\">\n",
       "      <th></th>\n",
       "      <th>one</th>\n",
       "      <th>two</th>\n",
       "      <th>three</th>\n",
       "    </tr>\n",
       "  </thead>\n",
       "  <tbody>\n",
       "    <tr>\n",
       "      <th>0</th>\n",
       "      <td>False</td>\n",
       "      <td>False</td>\n",
       "      <td>True</td>\n",
       "    </tr>\n",
       "    <tr>\n",
       "      <th>1</th>\n",
       "      <td>False</td>\n",
       "      <td>True</td>\n",
       "      <td>False</td>\n",
       "    </tr>\n",
       "    <tr>\n",
       "      <th>2</th>\n",
       "      <td>False</td>\n",
       "      <td>False</td>\n",
       "      <td>False</td>\n",
       "    </tr>\n",
       "  </tbody>\n",
       "</table>\n",
       "</div>"
      ],
      "text/plain": [
       "     one    two  three\n",
       "0  False  False   True\n",
       "1  False   True  False\n",
       "2  False  False  False"
      ]
     },
     "execution_count": 12,
     "metadata": {},
     "output_type": "execute_result"
    }
   ],
   "source": [
    "test_data.isna()"
   ]
  },
  {
   "cell_type": "code",
   "execution_count": 13,
   "id": "420ad5a5",
   "metadata": {},
   "outputs": [
    {
     "data": {
      "text/html": [
       "<div>\n",
       "<style scoped>\n",
       "    .dataframe tbody tr th:only-of-type {\n",
       "        vertical-align: middle;\n",
       "    }\n",
       "\n",
       "    .dataframe tbody tr th {\n",
       "        vertical-align: top;\n",
       "    }\n",
       "\n",
       "    .dataframe thead th {\n",
       "        text-align: right;\n",
       "    }\n",
       "</style>\n",
       "<table border=\"1\" class=\"dataframe\">\n",
       "  <thead>\n",
       "    <tr style=\"text-align: right;\">\n",
       "      <th></th>\n",
       "      <th>one</th>\n",
       "      <th>two</th>\n",
       "      <th>three</th>\n",
       "    </tr>\n",
       "  </thead>\n",
       "  <tbody>\n",
       "    <tr>\n",
       "      <th>2</th>\n",
       "      <td>0</td>\n",
       "      <td>1.0</td>\n",
       "      <td>2.0</td>\n",
       "    </tr>\n",
       "  </tbody>\n",
       "</table>\n",
       "</div>"
      ],
      "text/plain": [
       "   one  two  three\n",
       "2    0  1.0    2.0"
      ]
     },
     "execution_count": 13,
     "metadata": {},
     "output_type": "execute_result"
    }
   ],
   "source": [
    "test_data.dropna(axis=0)"
   ]
  },
  {
   "cell_type": "code",
   "execution_count": 14,
   "id": "3541fca8",
   "metadata": {},
   "outputs": [
    {
     "data": {
      "text/html": [
       "<div>\n",
       "<style scoped>\n",
       "    .dataframe tbody tr th:only-of-type {\n",
       "        vertical-align: middle;\n",
       "    }\n",
       "\n",
       "    .dataframe tbody tr th {\n",
       "        vertical-align: top;\n",
       "    }\n",
       "\n",
       "    .dataframe thead th {\n",
       "        text-align: right;\n",
       "    }\n",
       "</style>\n",
       "<table border=\"1\" class=\"dataframe\">\n",
       "  <thead>\n",
       "    <tr style=\"text-align: right;\">\n",
       "      <th></th>\n",
       "      <th>one</th>\n",
       "      <th>two</th>\n",
       "      <th>three</th>\n",
       "    </tr>\n",
       "  </thead>\n",
       "  <tbody>\n",
       "    <tr>\n",
       "      <th>0</th>\n",
       "      <td>1</td>\n",
       "      <td>2.0</td>\n",
       "      <td>-1.0</td>\n",
       "    </tr>\n",
       "    <tr>\n",
       "      <th>1</th>\n",
       "      <td>3</td>\n",
       "      <td>-1.0</td>\n",
       "      <td>4.0</td>\n",
       "    </tr>\n",
       "    <tr>\n",
       "      <th>2</th>\n",
       "      <td>0</td>\n",
       "      <td>1.0</td>\n",
       "      <td>2.0</td>\n",
       "    </tr>\n",
       "  </tbody>\n",
       "</table>\n",
       "</div>"
      ],
      "text/plain": [
       "   one  two  three\n",
       "0    1  2.0   -1.0\n",
       "1    3 -1.0    4.0\n",
       "2    0  1.0    2.0"
      ]
     },
     "execution_count": 14,
     "metadata": {},
     "output_type": "execute_result"
    }
   ],
   "source": [
    "test_data.fillna(-1)"
   ]
  },
  {
   "cell_type": "markdown",
   "id": "519971b9",
   "metadata": {},
   "source": [
    "## Задание 2.6.1\n",
    "\n",
    "### С помощью какого метода в Pandas можно обнаружить наличие пропусков?\n",
    "\n",
    "\n",
    "isna()\n",
    "\n",
    "## Задание 2.6.2\n",
    "\n",
    "### С помощью какого метода в Pandas можно удалить строки с пропусками?\n",
    "\n",
    "xddropna()\n",
    "\n",
    "\n",
    "## Задание 2.6.3\n",
    "\n",
    "### С помощью какого метода в Pandas можно заполнить пропуски какими-либо значениями?\n",
    "\n",
    "fillna()\n",
    "\n",
    "\n",
    "## Задание 2.6.4\n",
    "\n",
    "### Когда мы пишем в методе axis = 1, то подразумеваем:\n",
    "\n",
    "применение операции к столбцам верно\n",
    "\n",
    "\n",
    "## Задание 2.6.5\n",
    "\n",
    "### Что происходит, когда применяем .fillna(np.median())?\n",
    "\n",
    "заполняем пропуски значением, которое находится посередине (является медианой) для всех значений строки с пропуском верно\n"
   ]
  },
  {
   "cell_type": "markdown",
   "id": "937e0c40",
   "metadata": {},
   "source": [
    "# Задание 2.7 Начальная обработка"
   ]
  },
  {
   "cell_type": "markdown",
   "id": "8d659333",
   "metadata": {},
   "source": [
    "## Задание 2.7.1\n",
    "### Что такое нормализация данных?\n",
    "\n",
    "ans = Процесс приведения данных к одному масштабу\n",
    "\n",
    "## Задание 2.7.2\n",
    "### Выберите методы нормализации\n",
    "\n",
    "ans = MinMax; Стандартная\n",
    "\n",
    "## Задание 2.7.3\n",
    "### В каком случае лучше просто удалить данные, чем как-либо их обрабатывать?\n",
    "\n",
    "ans = Признак не несёт полезной информации верно"
   ]
  },
  {
   "cell_type": "markdown",
   "id": "18ae5dc7",
   "metadata": {},
   "source": [
    "# 2.8. Практика"
   ]
  },
  {
   "cell_type": "code",
   "execution_count": 24,
   "id": "23f72cde",
   "metadata": {},
   "outputs": [],
   "source": [
    "test_data=test_data.fillna(0)\n"
   ]
  },
  {
   "cell_type": "code",
   "execution_count": 25,
   "id": "6f313b8a",
   "metadata": {},
   "outputs": [
    {
     "data": {
      "text/html": [
       "<div>\n",
       "<style scoped>\n",
       "    .dataframe tbody tr th:only-of-type {\n",
       "        vertical-align: middle;\n",
       "    }\n",
       "\n",
       "    .dataframe tbody tr th {\n",
       "        vertical-align: top;\n",
       "    }\n",
       "\n",
       "    .dataframe thead th {\n",
       "        text-align: right;\n",
       "    }\n",
       "</style>\n",
       "<table border=\"1\" class=\"dataframe\">\n",
       "  <thead>\n",
       "    <tr style=\"text-align: right;\">\n",
       "      <th></th>\n",
       "      <th>one</th>\n",
       "      <th>two</th>\n",
       "      <th>three</th>\n",
       "    </tr>\n",
       "  </thead>\n",
       "  <tbody>\n",
       "    <tr>\n",
       "      <th>0</th>\n",
       "      <td>1</td>\n",
       "      <td>2.0</td>\n",
       "      <td>0.0</td>\n",
       "    </tr>\n",
       "    <tr>\n",
       "      <th>1</th>\n",
       "      <td>3</td>\n",
       "      <td>0.0</td>\n",
       "      <td>4.0</td>\n",
       "    </tr>\n",
       "    <tr>\n",
       "      <th>2</th>\n",
       "      <td>0</td>\n",
       "      <td>1.0</td>\n",
       "      <td>2.0</td>\n",
       "    </tr>\n",
       "  </tbody>\n",
       "</table>\n",
       "</div>"
      ],
      "text/plain": [
       "   one  two  three\n",
       "0    1  2.0    0.0\n",
       "1    3  0.0    4.0\n",
       "2    0  1.0    2.0"
      ]
     },
     "execution_count": 25,
     "metadata": {},
     "output_type": "execute_result"
    }
   ],
   "source": [
    "test_data"
   ]
  },
  {
   "cell_type": "code",
   "execution_count": 26,
   "id": "b3544f66",
   "metadata": {},
   "outputs": [],
   "source": [
    "from sklearn.preprocessing import MinMaxScaler"
   ]
  },
  {
   "cell_type": "code",
   "execution_count": 27,
   "id": "a9d3f12a",
   "metadata": {},
   "outputs": [
    {
     "data": {
      "text/plain": [
       "array([[0.33333333, 1.        , 0.        ],\n",
       "       [1.        , 0.        , 1.        ],\n",
       "       [0.        , 0.5       , 0.5       ]])"
      ]
     },
     "execution_count": 27,
     "metadata": {},
     "output_type": "execute_result"
    }
   ],
   "source": [
    "scaler = MinMaxScaler()\n",
    "scaler.fit_transform(test_data)"
   ]
  },
  {
   "cell_type": "code",
   "execution_count": 28,
   "id": "21adb54a",
   "metadata": {},
   "outputs": [
    {
     "data": {
      "text/plain": [
       "array([[-0.26726124,  1.22474487, -1.22474487],\n",
       "       [ 1.33630621, -1.22474487,  1.22474487],\n",
       "       [-1.06904497,  0.        ,  0.        ]])"
      ]
     },
     "execution_count": 28,
     "metadata": {},
     "output_type": "execute_result"
    }
   ],
   "source": [
    "from sklearn.preprocessing import StandardScaler\n",
    "scaler = StandardScaler()\n",
    "scaler.fit_transform(test_data)"
   ]
  },
  {
   "cell_type": "code",
   "execution_count": 29,
   "id": "a8bba83e",
   "metadata": {},
   "outputs": [
    {
     "data": {
      "text/html": [
       "<div>\n",
       "<style scoped>\n",
       "    .dataframe tbody tr th:only-of-type {\n",
       "        vertical-align: middle;\n",
       "    }\n",
       "\n",
       "    .dataframe tbody tr th {\n",
       "        vertical-align: top;\n",
       "    }\n",
       "\n",
       "    .dataframe thead th {\n",
       "        text-align: right;\n",
       "    }\n",
       "</style>\n",
       "<table border=\"1\" class=\"dataframe\">\n",
       "  <thead>\n",
       "    <tr style=\"text-align: right;\">\n",
       "      <th></th>\n",
       "      <th>two</th>\n",
       "      <th>three</th>\n",
       "    </tr>\n",
       "  </thead>\n",
       "  <tbody>\n",
       "    <tr>\n",
       "      <th>0</th>\n",
       "      <td>2.0</td>\n",
       "      <td>0.0</td>\n",
       "    </tr>\n",
       "    <tr>\n",
       "      <th>1</th>\n",
       "      <td>0.0</td>\n",
       "      <td>4.0</td>\n",
       "    </tr>\n",
       "    <tr>\n",
       "      <th>2</th>\n",
       "      <td>1.0</td>\n",
       "      <td>2.0</td>\n",
       "    </tr>\n",
       "  </tbody>\n",
       "</table>\n",
       "</div>"
      ],
      "text/plain": [
       "   two  three\n",
       "0  2.0    0.0\n",
       "1  0.0    4.0\n",
       "2  1.0    2.0"
      ]
     },
     "execution_count": 29,
     "metadata": {},
     "output_type": "execute_result"
    }
   ],
   "source": [
    "test_data.drop('one', axis=1)"
   ]
  },
  {
   "cell_type": "markdown",
   "id": "d9635e7c",
   "metadata": {},
   "source": [
    "# 2.9. Визуализация"
   ]
  },
  {
   "cell_type": "markdown",
   "id": "4e2fc056",
   "metadata": {},
   "source": [
    "## Задание 2.9.1\n",
    "### С помощью какого графика нагляднее всего можно показать нормализованные данные?\n",
    "\n",
    "ans = Гистограмма верно\n",
    "\n",
    "## Задание 2.9.2\n",
    "### Что позволяет сделать гистограмма?\n",
    "\n",
    "ans = распределить данные; выделить неверные значения; сделать данные понятными визуально\n",
    "\n",
    "\n",
    "\n",
    "## Задание 2.9.3\n",
    "### Выберите из списка значения, которые имеют абсолютную корреляцию выше 0.5?\n",
    "\n",
    "ans = 0.7; 0.69\n",
    "\n",
    "## Задание 2.9.4\n",
    "### Если зависимость большая и линейная, то какие будут значения корреляции?\n",
    "\n",
    "ans = Большие"
   ]
  },
  {
   "cell_type": "code",
   "execution_count": null,
   "id": "00471242",
   "metadata": {},
   "outputs": [],
   "source": []
  }
 ],
 "metadata": {
  "kernelspec": {
   "display_name": "Python 3",
   "language": "python",
   "name": "python3"
  },
  "language_info": {
   "codemirror_mode": {
    "name": "ipython",
    "version": 3
   },
   "file_extension": ".py",
   "mimetype": "text/x-python",
   "name": "python",
   "nbconvert_exporter": "python",
   "pygments_lexer": "ipython3",
   "version": "3.8.8"
  }
 },
 "nbformat": 4,
 "nbformat_minor": 5
}
