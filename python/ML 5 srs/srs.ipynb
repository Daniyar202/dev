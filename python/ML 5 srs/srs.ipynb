{
 "cells": [
  {
   "cell_type": "markdown",
   "id": "3233c6b7",
   "metadata": {},
   "source": [
    "# Task 5.1.1\n",
    "## Answer: 5, Ирис разноцветный"
   ]
  },
  {
   "cell_type": "markdown",
   "id": "9872df5b",
   "metadata": {},
   "source": [
    "# Task 5.2.1\n",
    "### Answer: 3"
   ]
  },
  {
   "cell_type": "markdown",
   "id": "a235d191",
   "metadata": {},
   "source": [
    "# Task 5.2.2\n",
    "### Answer: Max 3"
   ]
  },
  {
   "cell_type": "markdown",
   "id": "79498bef",
   "metadata": {},
   "source": [
    "# Task 5.4.1\n",
    "### Answer: Количество 3, 1й 2й 3й.\n"
   ]
  },
  {
   "cell_type": "markdown",
   "id": "08306740",
   "metadata": {},
   "source": [
    "# Task 5.4.2\n",
    "### Answer: 3; 1; 2; 1; 1."
   ]
  },
  {
   "cell_type": "markdown",
   "id": "9ee1e6a4",
   "metadata": {},
   "source": [
    "# Task 5.5.1\n",
    "### Answer: 4,5; 4."
   ]
  }
 ],
 "metadata": {
  "kernelspec": {
   "display_name": "Python 3",
   "language": "python",
   "name": "python3"
  },
  "language_info": {
   "codemirror_mode": {
    "name": "ipython",
    "version": 3
   },
   "file_extension": ".py",
   "mimetype": "text/x-python",
   "name": "python",
   "nbconvert_exporter": "python",
   "pygments_lexer": "ipython3",
   "version": "3.8.8"
  }
 },
 "nbformat": 4,
 "nbformat_minor": 5
}
